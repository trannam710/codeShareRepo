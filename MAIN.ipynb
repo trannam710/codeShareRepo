{
 "cells": [
  {
   "cell_type": "code",
   "execution_count": 1,
   "id": "4c61a171",
   "metadata": {},
   "outputs": [],
   "source": [
    "from selenium import webdriver\n",
    "from selenium.webdriver.common.by import By\n",
    "from selenium.webdriver.common.keys import Keys\n",
    "from selenium.webdriver.chrome.options import Options\n",
    "from selenium.webdriver.chrome.service import Service\n",
    "from selenium.webdriver.support.ui import WebDriverWait\n",
    "from selenium.webdriver.common.action_chains import ActionChains\n",
    "from selenium.webdriver.support import expected_conditions as EC\n",
    "from selenium.webdriver.chrome.service import Service as ChromeService\n",
    "from selenium.common.exceptions import NoSuchElementException\n",
    "\n",
    "import undetected_chromedriver as uc\n",
    "from webdriver_manager.chrome import ChromeDriverManager\n",
    "\n",
    "# from bs4 import BeautifulSoup\n",
    "\n",
    "import os\n",
    "import time\n",
    "import requests\n",
    "import warnings\n",
    "import unicodedata\n",
    "import pandas as pd\n",
    "from tqdm import tqdm\n",
    "from random import randint\n",
    "\n",
    "warnings.filterwarnings('ignore')\n",
    "\n",
    "chrome_options = uc.ChromeOptions()\n",
    "\n",
    "chrome_options.add_argument('--no-sandbox')\n",
    "chrome_options.add_argument('--disable-dev-shm-usage')\n",
    "chrome_options.add_argument('--disable-infobars');\n",
    "chrome_options.add_argument(\"--safebrowsing-disable-download-protection\")\n",
    "chrome_options.add_argument(\"safebrowsing-disable-extension-blacklist\")\n",
    "chrome_options.add_argument(\"--disable-javascript\")\n",
    "chrome_options.add_argument(\"--start-maximized\")\n",
    "# Adding argument to disable the AutomationControlled flag \n",
    "chrome_options.add_argument(\"--disable-blink-features=AutomationControlled\")\n",
    " \n",
    "# Exclude the collection of enable-automation switches \n",
    "chrome_options.add_experimental_option(\"excludeSwitches\", [\"enable-automation\"]) \n",
    "\n",
    "# Turn-off userAutomationExtension \n",
    "chrome_options.add_experimental_option(\"useAutomationExtension\", False)\n",
    "\n",
    "driver = webdriver.Chrome(service=ChromeService(ChromeDriverManager().install()), options=chrome_options)\n",
    "\n",
    "driver.execute_script(\"Object.defineProperty(navigator, 'webdriver', {get: () => undefined})\")\n",
    "\n",
    "actions = ActionChains(driver)"
   ]
  },
  {
   "cell_type": "code",
   "execution_count": 2,
   "id": "08af9e73",
   "metadata": {},
   "outputs": [
    {
     "name": "stdout",
     "output_type": "stream",
     "text": [
      "Processing company number: 1/25 - Company number 02719242 - SONY PICTURES TELEVISION UK RIGHTS LIMITED\n",
      "\n",
      "Folder created: RESULT/Company number 02719242_SONY PICTURES TELEVISION UK RIGHTS LIMITED\n"
     ]
    },
    {
     "name": "stderr",
     "output_type": "stream",
     "text": [
      "Scraping page 1: 100%|██████████| 25/25 [01:04<00:00,  2.58s/it]\n"
     ]
    },
    {
     "name": "stdout",
     "output_type": "stream",
     "text": [
      "Next page clicked.\n"
     ]
    },
    {
     "name": "stderr",
     "output_type": "stream",
     "text": [
      "Scraping page 2: 100%|██████████| 12/12 [00:22<00:00,  1.91s/it]\n"
     ]
    },
    {
     "name": "stdout",
     "output_type": "stream",
     "text": [
      "No more pages to scrape.\n",
      "\n",
      "\n",
      "Processing company number: 2/25 - Company number 02829355 - SONY INTERACTIVE ENTERTAINMENT UK LIMITED\n",
      "\n",
      "Folder created: RESULT/Company number 02829355_SONY INTERACTIVE ENTERTAINMENT UK LIMITED\n"
     ]
    },
    {
     "name": "stderr",
     "output_type": "stream",
     "text": [
      "Scraping page 1: 100%|██████████| 25/25 [01:04<00:00,  2.58s/it]\n"
     ]
    },
    {
     "name": "stdout",
     "output_type": "stream",
     "text": [
      "Next page clicked.\n"
     ]
    },
    {
     "name": "stderr",
     "output_type": "stream",
     "text": [
      "Scraping page 2: 100%|██████████| 14/14 [00:22<00:00,  1.62s/it]\n"
     ]
    },
    {
     "name": "stdout",
     "output_type": "stream",
     "text": [
      "No more pages to scrape.\n",
      "\n",
      "\n",
      "Processing company number: 3/25 - Company number 03277793 - SONY INTERACTIVE ENTERTAINMENT EUROPE LIMITED\n",
      "\n",
      "Folder created: RESULT/Company number 03277793_SONY INTERACTIVE ENTERTAINMENT EUROPE LIMITED\n"
     ]
    },
    {
     "name": "stderr",
     "output_type": "stream",
     "text": [
      "Scraping page 1: 100%|██████████| 25/25 [01:03<00:00,  2.55s/it]\n"
     ]
    },
    {
     "name": "stdout",
     "output_type": "stream",
     "text": [
      "Next page clicked.\n"
     ]
    },
    {
     "name": "stderr",
     "output_type": "stream",
     "text": [
      "Scraping page 2: 100%|██████████| 11/11 [00:00<00:00, 33.22it/s]\n"
     ]
    },
    {
     "name": "stdout",
     "output_type": "stream",
     "text": [
      "No more pages to scrape.\n",
      "\n",
      "\n",
      "Processing company number: 4/25 - Company number 03754597 - SONY INTERACTIVE ENTERTAINMENT DIRECT EUROPE LIMITED\n",
      "\n",
      "Folder created: RESULT/Company number 03754597_SONY INTERACTIVE ENTERTAINMENT DIRECT EUROPE LIMITED\n"
     ]
    },
    {
     "name": "stderr",
     "output_type": "stream",
     "text": [
      "Scraping page 1: 100%|██████████| 25/25 [01:14<00:00,  2.97s/it]\n"
     ]
    },
    {
     "name": "stdout",
     "output_type": "stream",
     "text": [
      "Next page clicked.\n"
     ]
    },
    {
     "name": "stderr",
     "output_type": "stream",
     "text": [
      "Scraping page 2: 100%|██████████| 2/2 [00:02<00:00,  1.24s/it]\n"
     ]
    },
    {
     "name": "stdout",
     "output_type": "stream",
     "text": [
      "No more pages to scrape.\n",
      "\n",
      "\n",
      "Processing company number: 5/25 - Company number 03602378 - SONY ENTERTAINMENT HOLDINGS EUROPE LIMITED\n",
      "\n",
      "Folder created: RESULT/Company number 03602378_SONY ENTERTAINMENT HOLDINGS EUROPE LIMITED\n"
     ]
    },
    {
     "name": "stderr",
     "output_type": "stream",
     "text": [
      "Scraping page 1: 100%|██████████| 25/25 [00:47<00:00,  1.90s/it]\n"
     ]
    },
    {
     "name": "stdout",
     "output_type": "stream",
     "text": [
      "Next page clicked.\n"
     ]
    },
    {
     "name": "stderr",
     "output_type": "stream",
     "text": [
      "Scraping page 2: 100%|██████████| 9/9 [00:02<00:00,  3.64it/s]\n"
     ]
    },
    {
     "name": "stdout",
     "output_type": "stream",
     "text": [
      "No more pages to scrape.\n",
      "\n",
      "\n",
      "Processing company number: 6/25 - Company number 02351702 - SONY CORPORATE SERVICES EUROPE LIMITED\n",
      "\n",
      "Folder created: RESULT/Company number 02351702_SONY CORPORATE SERVICES EUROPE LIMITED\n"
     ]
    },
    {
     "name": "stderr",
     "output_type": "stream",
     "text": [
      "Scraping page 1: 100%|██████████| 25/25 [01:11<00:00,  2.86s/it]\n"
     ]
    },
    {
     "name": "stdout",
     "output_type": "stream",
     "text": [
      "Next page clicked.\n"
     ]
    },
    {
     "name": "stderr",
     "output_type": "stream",
     "text": [
      "Scraping page 2: 100%|██████████| 15/15 [00:03<00:00,  4.80it/s]\n"
     ]
    },
    {
     "name": "stdout",
     "output_type": "stream",
     "text": [
      "No more pages to scrape.\n",
      "\n",
      "\n",
      "Processing company number: 7/25 - Company number 03236308 - SONY PICTURES TELEVISION PRODUCTION UK LIMITED\n",
      "\n",
      "Folder created: RESULT/Company number 03236308_SONY PICTURES TELEVISION PRODUCTION UK LIMITED\n"
     ]
    },
    {
     "name": "stderr",
     "output_type": "stream",
     "text": [
      "Scraping page 1: 100%|██████████| 25/25 [01:30<00:00,  3.62s/it]\n"
     ]
    },
    {
     "name": "stdout",
     "output_type": "stream",
     "text": [
      "Next page clicked.\n"
     ]
    },
    {
     "name": "stderr",
     "output_type": "stream",
     "text": [
      "Scraping page 2: 100%|██████████| 7/7 [00:05<00:00,  1.33it/s]\n"
     ]
    },
    {
     "name": "stdout",
     "output_type": "stream",
     "text": [
      "No more pages to scrape.\n",
      "\n",
      "\n",
      "Processing company number: 8/25 - Company number FC035527 - SONY EUROPE B.V.\n",
      "\n",
      "Folder created: RESULT/Company number FC035527_SONY EUROPE B.V.\n"
     ]
    },
    {
     "name": "stderr",
     "output_type": "stream",
     "text": [
      "Scraping page 1: 100%|██████████| 6/6 [00:26<00:00,  4.38s/it]\n"
     ]
    },
    {
     "name": "stdout",
     "output_type": "stream",
     "text": [
      "No more pages to scrape.\n",
      "\n",
      "\n",
      "Processing company number: 9/25 - Company number 15990239 - SONY UK TECHNOLOGY CENTRE LIMITED\n",
      "\n",
      "Folder created: RESULT/Company number 15990239_SONY UK TECHNOLOGY CENTRE LIMITED\n"
     ]
    },
    {
     "name": "stderr",
     "output_type": "stream",
     "text": [
      "Scraping page 1: 100%|██████████| 1/1 [00:00<00:00, 37.03it/s]\n"
     ]
    },
    {
     "name": "stdout",
     "output_type": "stream",
     "text": [
      "No more pages to scrape.\n",
      "\n",
      "\n",
      "Processing company number: 10/25 - Company number 01326236 - SONY MUSIC ENTERTAINMENT EURODISC LIMITED\n",
      "\n",
      "Folder created: RESULT/Company number 01326236_SONY MUSIC ENTERTAINMENT EURODISC LIMITED\n"
     ]
    },
    {
     "name": "stderr",
     "output_type": "stream",
     "text": [
      "Scraping page 1: 100%|██████████| 25/25 [00:31<00:00,  1.28s/it]\n"
     ]
    },
    {
     "name": "stdout",
     "output_type": "stream",
     "text": [
      "Next page clicked.\n"
     ]
    },
    {
     "name": "stderr",
     "output_type": "stream",
     "text": [
      "Scraping page 2: 100%|██████████| 23/23 [00:26<00:00,  1.15s/it]\n"
     ]
    },
    {
     "name": "stdout",
     "output_type": "stream",
     "text": [
      "No more pages to scrape.\n",
      "\n",
      "\n",
      "Processing company number: 11/25 - Company number 04965804 - SONY MUSIC PUBLISHING (UK) LIMITED\n",
      "\n",
      "Folder created: RESULT/Company number 04965804_SONY MUSIC PUBLISHING (UK) LIMITED\n"
     ]
    },
    {
     "name": "stderr",
     "output_type": "stream",
     "text": [
      "Scraping page 1: 100%|██████████| 22/22 [01:06<00:00,  3.02s/it]\n"
     ]
    },
    {
     "name": "stdout",
     "output_type": "stream",
     "text": [
      "No more pages to scrape.\n",
      "\n",
      "\n",
      "Processing company number: 12/25 - Company number 15698470 - SONY EUROPE LIMITED\n",
      "\n",
      "Folder created: RESULT/Company number 15698470_SONY EUROPE LIMITED\n"
     ]
    },
    {
     "name": "stderr",
     "output_type": "stream",
     "text": [
      "Scraping page 1: 100%|██████████| 1/1 [00:00<00:00, 25.26it/s]\n"
     ]
    },
    {
     "name": "stdout",
     "output_type": "stream",
     "text": [
      "No more pages to scrape.\n",
      "\n",
      "\n",
      "Processing company number: 13/25 - Company number 06020283 - SONY INTERACTIVE ENTERTAINMENT NETWORK EUROPE LIMITED\n",
      "\n",
      "Folder created: RESULT/Company number 06020283_SONY INTERACTIVE ENTERTAINMENT NETWORK EUROPE LIMITED\n"
     ]
    },
    {
     "name": "stderr",
     "output_type": "stream",
     "text": [
      "Scraping page 1: 100%|██████████| 18/18 [00:46<00:00,  2.60s/it]\n"
     ]
    },
    {
     "name": "stdout",
     "output_type": "stream",
     "text": [
      "No more pages to scrape.\n",
      "\n",
      "\n",
      "Processing company number: 14/25 - Company number 05640889 - SONY DADC UK LIMITED\n",
      "\n",
      "Folder created: RESULT/Company number 05640889_SONY DADC UK LIMITED\n"
     ]
    },
    {
     "name": "stderr",
     "output_type": "stream",
     "text": [
      "Scraping page 1: 100%|██████████| 19/19 [00:55<00:00,  2.93s/it]\n"
     ]
    },
    {
     "name": "stdout",
     "output_type": "stream",
     "text": [
      "No more pages to scrape.\n",
      "\n",
      "\n",
      "Processing company number: 15/25 - Company number 06583810 - SONY MUSIC PUBLISHING EUROPE LIMITED\n",
      "\n",
      "Folder created: RESULT/Company number 06583810_SONY MUSIC PUBLISHING EUROPE LIMITED\n"
     ]
    },
    {
     "name": "stderr",
     "output_type": "stream",
     "text": [
      "Scraping page 1: 100%|██████████| 17/17 [00:43<00:00,  2.56s/it]\n"
     ]
    },
    {
     "name": "stdout",
     "output_type": "stream",
     "text": [
      "No more pages to scrape.\n",
      "\n",
      "\n",
      "Processing company number: 16/25 - Company number 03431011 - SONY-ATV MUSIC PUBLISHING (UK) LIMITED\n",
      "\n",
      "Folder created: RESULT/Company number 03431011_SONY-ATV MUSIC PUBLISHING (UK) LIMITED\n"
     ]
    },
    {
     "name": "stderr",
     "output_type": "stream",
     "text": [
      "Scraping page 1: 100%|██████████| 25/25 [01:10<00:00,  2.82s/it]\n"
     ]
    },
    {
     "name": "stdout",
     "output_type": "stream",
     "text": [
      "Next page clicked.\n"
     ]
    },
    {
     "name": "stderr",
     "output_type": "stream",
     "text": [
      "Scraping page 2: 100%|██████████| 5/5 [00:09<00:00,  1.99s/it]\n"
     ]
    },
    {
     "name": "stdout",
     "output_type": "stream",
     "text": [
      "No more pages to scrape.\n",
      "\n",
      "\n",
      "Processing company number: 17/25 - UK establishment number BR020612 - SONY EUROPE B.V.\n",
      "\n",
      "Folder created: RESULT/UK establishment number BR020612_SONY EUROPE B.V.\n",
      "Company UK establishment number BR020612 not found or does not have a valid filing history page.\n",
      "Processing company number: 18/25 - Company number 02019657 - SONY MUSIC ENTERTAINMENT INTERNATIONAL LIMITED\n",
      "\n",
      "Folder created: RESULT/Company number 02019657_SONY MUSIC ENTERTAINMENT INTERNATIONAL LIMITED\n"
     ]
    },
    {
     "name": "stderr",
     "output_type": "stream",
     "text": [
      "Scraping page 1:  28%|██▊       | 7/25 [00:23<00:58,  3.25s/it]"
     ]
    },
    {
     "name": "stdout",
     "output_type": "stream",
     "text": [
      "Failed to download. Status code: 502\n",
      "Retrying in 5 seconds...\n"
     ]
    },
    {
     "name": "stderr",
     "output_type": "stream",
     "text": [
      "Scraping page 1: 100%|██████████| 25/25 [01:09<00:00,  2.77s/it]\n"
     ]
    },
    {
     "name": "stdout",
     "output_type": "stream",
     "text": [
      "Next page clicked.\n"
     ]
    },
    {
     "name": "stderr",
     "output_type": "stream",
     "text": [
      "Scraping page 2: 100%|██████████| 23/23 [00:21<00:00,  1.06it/s]\n"
     ]
    },
    {
     "name": "stdout",
     "output_type": "stream",
     "text": [
      "No more pages to scrape.\n",
      "\n",
      "\n",
      "Processing company number: 19/25 - Company number 04120046 - SONY GLOBAL TREASURY SERVICES PLC\n",
      "\n",
      "Folder created: RESULT/Company number 04120046_SONY GLOBAL TREASURY SERVICES PLC\n"
     ]
    },
    {
     "name": "stderr",
     "output_type": "stream",
     "text": [
      "Scraping page 1: 100%|██████████| 24/24 [00:12<00:00,  1.95it/s]\n"
     ]
    },
    {
     "name": "stdout",
     "output_type": "stream",
     "text": [
      "No more pages to scrape.\n",
      "\n",
      "\n",
      "Processing company number: 20/25 - Company number 01481009 - SONY MUSIC ENTERTAINMENT ARIOLA RECORDS LTD.\n",
      "\n",
      "Folder created: RESULT/Company number 01481009_SONY MUSIC ENTERTAINMENT ARIOLA RECORDS LTD.\n"
     ]
    },
    {
     "name": "stderr",
     "output_type": "stream",
     "text": [
      "Scraping page 1: 100%|██████████| 25/25 [00:05<00:00,  4.79it/s]\n"
     ]
    },
    {
     "name": "stdout",
     "output_type": "stream",
     "text": [
      "Next page clicked.\n"
     ]
    },
    {
     "name": "stderr",
     "output_type": "stream",
     "text": [
      "Scraping page 2: 100%|██████████| 20/20 [00:00<00:00, 35.30it/s]\n"
     ]
    },
    {
     "name": "stdout",
     "output_type": "stream",
     "text": [
      "No more pages to scrape.\n",
      "\n",
      "\n",
      "Processing company number: 21/25 - Company number 01442233 - SONY MUSIC ENTERTAINMENT ARISTA RECORDS LTD.\n",
      "\n",
      "Folder created: RESULT/Company number 01442233_SONY MUSIC ENTERTAINMENT ARISTA RECORDS LTD.\n"
     ]
    },
    {
     "name": "stderr",
     "output_type": "stream",
     "text": [
      "Scraping page 1: 100%|██████████| 25/25 [00:05<00:00,  4.75it/s]\n"
     ]
    },
    {
     "name": "stdout",
     "output_type": "stream",
     "text": [
      "Next page clicked.\n"
     ]
    },
    {
     "name": "stderr",
     "output_type": "stream",
     "text": [
      "Scraping page 2: 100%|██████████| 20/20 [00:01<00:00, 16.78it/s]\n"
     ]
    },
    {
     "name": "stdout",
     "output_type": "stream",
     "text": [
      "No more pages to scrape.\n",
      "\n",
      "\n",
      "Processing company number: 22/25 - Company number 03196274 - SONY MUSIC INTERACTIVE & VIDEO LTD.\n",
      "\n",
      "Folder created: RESULT/Company number 03196274_SONY MUSIC INTERACTIVE & VIDEO LTD.\n"
     ]
    },
    {
     "name": "stderr",
     "output_type": "stream",
     "text": [
      "Scraping page 1: 100%|██████████| 25/25 [00:05<00:00,  4.30it/s]\n"
     ]
    },
    {
     "name": "stdout",
     "output_type": "stream",
     "text": [
      "Next page clicked.\n"
     ]
    },
    {
     "name": "stderr",
     "output_type": "stream",
     "text": [
      "Scraping page 2: 100%|██████████| 7/7 [00:09<00:00,  1.41s/it]\n"
     ]
    },
    {
     "name": "stdout",
     "output_type": "stream",
     "text": [
      "No more pages to scrape.\n",
      "\n",
      "\n",
      "Processing company number: 23/25 - Company number 03185450 - SONY MUSIC ENTERTAINMENT UK HOLDINGS LIMITED\n",
      "\n",
      "Folder created: RESULT/Company number 03185450_SONY MUSIC ENTERTAINMENT UK HOLDINGS LIMITED\n"
     ]
    },
    {
     "name": "stderr",
     "output_type": "stream",
     "text": [
      "Scraping page 1: 100%|██████████| 25/25 [01:10<00:00,  2.84s/it]\n"
     ]
    },
    {
     "name": "stdout",
     "output_type": "stream",
     "text": [
      "Next page clicked.\n"
     ]
    },
    {
     "name": "stderr",
     "output_type": "stream",
     "text": [
      "Scraping page 2: 100%|██████████| 7/7 [00:05<00:00,  1.40it/s]\n"
     ]
    },
    {
     "name": "stdout",
     "output_type": "stream",
     "text": [
      "No more pages to scrape.\n",
      "\n",
      "\n",
      "Processing company number: 24/25 - Company number 01471066 - SONY MUSIC ENTERTAINMENT UK LIMITED\n",
      "\n",
      "Folder created: RESULT/Company number 01471066_SONY MUSIC ENTERTAINMENT UK LIMITED\n"
     ]
    },
    {
     "name": "stderr",
     "output_type": "stream",
     "text": [
      "Scraping page 1: 100%|██████████| 25/25 [01:20<00:00,  3.24s/it]\n"
     ]
    },
    {
     "name": "stdout",
     "output_type": "stream",
     "text": [
      "Next page clicked.\n"
     ]
    },
    {
     "name": "stderr",
     "output_type": "stream",
     "text": [
      "Scraping page 2: 100%|██████████| 25/25 [00:39<00:00,  1.57s/it]\n"
     ]
    },
    {
     "name": "stdout",
     "output_type": "stream",
     "text": [
      "No more pages to scrape.\n",
      "\n",
      "\n",
      "Processing company number: 25/25 - Company number OE029601 - SONY EUROPE B.V.\n",
      "\n",
      "Folder created: RESULT/Company number OE029601_SONY EUROPE B.V.\n",
      "No more pages to scrape.\n",
      "\n",
      "\n"
     ]
    }
   ],
   "source": [
    "def crawlPDF(company_number, cursor, number_of_companies):\n",
    "\n",
    "    data = []\n",
    "\n",
    "    driver.get(f\"https://find-and-update.company-information.service.gov.uk/company/{company_number}/filing-history\")\n",
    "\n",
    "    time.sleep(3)\n",
    "\n",
    "    driver.execute_script(\"window.scrollBy(0, 500);\")  # Scrolls down 500px\n",
    "\n",
    "    # Get company name and company number\n",
    "    try:\n",
    "        company_name = driver.find_element(By.CLASS_NAME, \"heading-xlarge\").text.strip().replace('\\\\', '').replace('/', '-')\n",
    "        company_number = driver.find_element(By.ID, \"company-number\").text.strip()\n",
    "\n",
    "        folder_path = f\"RESULT/{company_number}_{company_name}\"\n",
    "\n",
    "        print(f\"Processing company number: {cursor}/{number_of_companies} - {company_number} - {company_name}\\n\")\n",
    "\n",
    "        if not os.path.exists(folder_path):\n",
    "            os.makedirs(folder_path)\n",
    "            tqdm.write(f\"Folder created: {folder_path}\")\n",
    "        else:\n",
    "            tqdm.write(f\"Folder already exists: {folder_path}\")\n",
    "\n",
    "        # Filter for accounts\n",
    "        checkbox = driver.find_element(By.ID, \"filter-category-accounts\")\n",
    "        if not checkbox.is_selected():\n",
    "            # Click the checkbox to select it\n",
    "            checkbox.click()\n",
    "    except NoSuchElementException:\n",
    "        tqdm.write(f\"Company {company_number} not found or does not have a valid filing history page.\")\n",
    "        return []\n",
    "\n",
    "    # Loop through pages until there are no more pages to scrape\n",
    "    page_number = 1 \n",
    "    while True:\n",
    "        try:\n",
    "\n",
    "            time.sleep(2)\n",
    "\n",
    "            table = driver.find_element(By.ID, \"fhTable\")\n",
    "\n",
    "            rows = table.find_element(By.TAG_NAME, \"tbody\").find_elements(By.TAG_NAME, \"tr\")\n",
    "            for row in tqdm(rows[1:], desc=f\"Scraping page {page_number}\"):  # Skip the header row\n",
    "                columns = row.find_elements(By.TAG_NAME, \"td\")\n",
    "                if len(columns) > 0:\n",
    "                    date = columns[0].text.strip()\n",
    "                    description = columns[2].text.strip()\n",
    "                    if (\"Full accounts\".lower() in description.lower()) and \"Request Document\" not in columns[3].find_element(By.TAG_NAME, \"a\").text.strip() :\n",
    "                        link = columns[3].find_element(By.TAG_NAME, \"a\").get_attribute(\"href\")\n",
    "                    else:\n",
    "                        link = 'None'\n",
    "\n",
    "                    if link != 'None':\n",
    "                        while True:\n",
    "                            response = requests.get(link)\n",
    "                            if response.status_code == 200:\n",
    "                                with open(f\"{folder_path}/{date}_{description}.pdf\", \"wb\") as f:\n",
    "                                    f.write(response.content)\n",
    "                                break\n",
    "                            else:\n",
    "                                tqdm.write(f\"Failed to download. Status code: {response.status_code}\")\n",
    "                                tqdm.write(\"Retrying in 5 seconds...\")\n",
    "                                time.sleep(5)\n",
    "                    \n",
    "                    data.append({\n",
    "                        'Company Name': company_name,\n",
    "                        'Company Number': company_number,\n",
    "                        'Date': date,\n",
    "                        'Description': description,\n",
    "                        'Link': link\n",
    "                    })\n",
    "\n",
    "            \n",
    "            time.sleep(2)\n",
    "            next_page = driver.find_element(By.CLASS_NAME, \"govuk-pagination__next\")\n",
    "            next_page.click()\n",
    "            tqdm.write(\"Next page clicked.\")\n",
    "            page_number += 1\n",
    "\n",
    "        except:\n",
    "            tqdm.write(\"No more pages to scrape.\\n\\n\")\n",
    "            break\n",
    "\n",
    "    # Save the data to a CSV file\n",
    "    pd.DataFrame(data).to_csv(f\"{folder_path}/Filling_History_{company_number}_{company_name}.csv\", index=False)\n",
    "\n",
    "    return data\n",
    "\n",
    "\n",
    "FULL_DATA = []\n",
    "cursor = 1\n",
    "company_list = pd.read_excel('JPG-to-excel_vpM.xlsx')\n",
    "company_number_list = company_list['company_number']\n",
    "for company in company_number_list:\n",
    "    try:\n",
    "        FULL_DATA.extend(crawlPDF(company, cursor, len(company_number_list)))\n",
    "        cursor += 1\n",
    "    except Exception as e:\n",
    "        tqdm.write(f\"Error processing company {company}: {e}\")\n",
    "        continue\n",
    "\n",
    "pd.DataFrame(FULL_DATA).to_csv('RESULT/Filling_History.csv', index=False)"
   ]
  }
 ],
 "metadata": {
  "kernelspec": {
   "display_name": "Python 3",
   "language": "python",
   "name": "python3"
  },
  "language_info": {
   "codemirror_mode": {
    "name": "ipython",
    "version": 3
   },
   "file_extension": ".py",
   "mimetype": "text/x-python",
   "name": "python",
   "nbconvert_exporter": "python",
   "pygments_lexer": "ipython3",
   "version": "3.9.0"
  }
 },
 "nbformat": 4,
 "nbformat_minor": 5
}
